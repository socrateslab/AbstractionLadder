{
 "cells": [
  {
   "cell_type": "code",
   "execution_count": 45,
   "metadata": {
    "ExecuteTime": {
     "end_time": "2021-09-21T07:05:38.526038Z",
     "start_time": "2021-09-21T07:05:38.488Z"
    }
   },
   "outputs": [],
   "source": [
    "library(\"ggplot2\")\n",
    "library('interactions')\n",
    "library('stargazer')\n",
    "library(\"latex2exp\")"
   ]
  },
  {
   "cell_type": "code",
   "execution_count": 2,
   "metadata": {
    "ExecuteTime": {
     "end_time": "2021-09-23T01:58:51.279650Z",
     "start_time": "2021-09-23T01:58:45.474Z"
    }
   },
   "outputs": [],
   "source": [
    "data<-read.csv('zhihu_cateroy_spanning_interaction_2.csv')"
   ]
  },
  {
   "cell_type": "code",
   "execution_count": 3,
   "metadata": {
    "ExecuteTime": {
     "end_time": "2021-09-23T01:58:53.509632Z",
     "start_time": "2021-09-23T01:58:53.459Z"
    }
   },
   "outputs": [
    {
     "data": {
      "text/html": [
       "<table class=\"dataframe\">\n",
       "<caption>A data.frame: 6 × 27</caption>\n",
       "<thead>\n",
       "\t<tr><th></th><th scope=col>X</th><th scope=col>title_length</th><th scope=col>log_lasting_days</th><th scope=col>max_level</th><th scope=col>content_distance</th><th scope=col>content_distance2</th><th scope=col>content_distance_by_max_level</th><th scope=col>content_distance2_by_max_level</th><th scope=col>Mon</th><th scope=col>Tue</th><th scope=col>⋯</th><th scope=col>H_12_15</th><th scope=col>H_15_18</th><th scope=col>H_18_21</th><th scope=col>log_follower_num</th><th scope=col>topic_num</th><th scope=col>knowledge_granularity</th><th scope=col>log_content_distance</th><th scope=col>log_content_distance2</th><th scope=col>log_content_distance_by_max_level</th><th scope=col>log_content_distance2_by_max_level</th></tr>\n",
       "\t<tr><th></th><th scope=col>&lt;int&gt;</th><th scope=col>&lt;int&gt;</th><th scope=col>&lt;dbl&gt;</th><th scope=col>&lt;int&gt;</th><th scope=col>&lt;dbl&gt;</th><th scope=col>&lt;dbl&gt;</th><th scope=col>&lt;dbl&gt;</th><th scope=col>&lt;dbl&gt;</th><th scope=col>&lt;int&gt;</th><th scope=col>&lt;int&gt;</th><th scope=col>⋯</th><th scope=col>&lt;int&gt;</th><th scope=col>&lt;int&gt;</th><th scope=col>&lt;int&gt;</th><th scope=col>&lt;dbl&gt;</th><th scope=col>&lt;int&gt;</th><th scope=col>&lt;int&gt;</th><th scope=col>&lt;dbl&gt;</th><th scope=col>&lt;dbl&gt;</th><th scope=col>&lt;dbl&gt;</th><th scope=col>&lt;dbl&gt;</th></tr>\n",
       "</thead>\n",
       "<tbody>\n",
       "\t<tr><th scope=row>1</th><td>0</td><td>13</td><td>7.889084</td><td>5</td><td>0.3053453</td><td>0.09323573</td><td>1.5267263</td><td>0.4661786</td><td>0</td><td>0</td><td>⋯</td><td>0</td><td>0</td><td>0</td><td>8.494334</td><td>3</td><td>5</td><td>-0.5137888</td><td>0.26397897</td><td> 1.3198949</td><td> 1.3198949</td></tr>\n",
       "\t<tr><th scope=row>2</th><td>1</td><td>21</td><td>7.878913</td><td>7</td><td>0.5132803</td><td>0.26345670</td><td>3.5929623</td><td>1.8441969</td><td>0</td><td>0</td><td>⋯</td><td>1</td><td>0</td><td>0</td><td>8.128880</td><td>2</td><td>7</td><td>-0.2888001</td><td>0.08340549</td><td> 0.5838384</td><td> 0.5838384</td></tr>\n",
       "\t<tr><th scope=row>3</th><td>2</td><td>21</td><td>7.866339</td><td>6</td><td>0.5172706</td><td>0.26756884</td><td>3.1036234</td><td>1.6054130</td><td>0</td><td>0</td><td>⋯</td><td>0</td><td>0</td><td>0</td><td>4.927254</td><td>2</td><td>6</td><td>-0.2854435</td><td>0.08147797</td><td> 0.4888678</td><td> 0.4888678</td></tr>\n",
       "\t<tr><th scope=row>4</th><td>3</td><td>15</td><td>7.862882</td><td>5</td><td>0.1460233</td><td>0.02132279</td><td>0.7301163</td><td>0.1066140</td><td>0</td><td>0</td><td>⋯</td><td>0</td><td>1</td><td>0</td><td>5.209486</td><td>5</td><td>5</td><td>-0.8326139</td><td>0.69324596</td><td> 3.4662298</td><td> 3.4662298</td></tr>\n",
       "\t<tr><th scope=row>5</th><td>4</td><td>18</td><td>7.858641</td><td>8</td><td>0.0000000</td><td>0.00000000</td><td>0.0000000</td><td>0.0000000</td><td>1</td><td>0</td><td>⋯</td><td>0</td><td>0</td><td>1</td><td>5.627621</td><td>1</td><td>8</td><td>-3.0000000</td><td>9.00000000</td><td>72.0000000</td><td>72.0000000</td></tr>\n",
       "\t<tr><th scope=row>6</th><td>5</td><td>13</td><td>7.852828</td><td>7</td><td>0.1550947</td><td>0.02405435</td><td>1.0856626</td><td>0.1683805</td><td>0</td><td>1</td><td>⋯</td><td>0</td><td>0</td><td>0</td><td>9.427466</td><td>5</td><td>7</td><td>-0.8066120</td><td>0.65062285</td><td> 4.5543599</td><td> 4.5543599</td></tr>\n",
       "</tbody>\n",
       "</table>\n"
      ],
      "text/latex": [
       "A data.frame: 6 × 27\n",
       "\\begin{tabular}{r|lllllllllllllllllllll}\n",
       "  & X & title\\_length & log\\_lasting\\_days & max\\_level & content\\_distance & content\\_distance2 & content\\_distance\\_by\\_max\\_level & content\\_distance2\\_by\\_max\\_level & Mon & Tue & ⋯ & H\\_12\\_15 & H\\_15\\_18 & H\\_18\\_21 & log\\_follower\\_num & topic\\_num & knowledge\\_granularity & log\\_content\\_distance & log\\_content\\_distance2 & log\\_content\\_distance\\_by\\_max\\_level & log\\_content\\_distance2\\_by\\_max\\_level\\\\\n",
       "  & <int> & <int> & <dbl> & <int> & <dbl> & <dbl> & <dbl> & <dbl> & <int> & <int> & ⋯ & <int> & <int> & <int> & <dbl> & <int> & <int> & <dbl> & <dbl> & <dbl> & <dbl>\\\\\n",
       "\\hline\n",
       "\t1 & 0 & 13 & 7.889084 & 5 & 0.3053453 & 0.09323573 & 1.5267263 & 0.4661786 & 0 & 0 & ⋯ & 0 & 0 & 0 & 8.494334 & 3 & 5 & -0.5137888 & 0.26397897 &  1.3198949 &  1.3198949\\\\\n",
       "\t2 & 1 & 21 & 7.878913 & 7 & 0.5132803 & 0.26345670 & 3.5929623 & 1.8441969 & 0 & 0 & ⋯ & 1 & 0 & 0 & 8.128880 & 2 & 7 & -0.2888001 & 0.08340549 &  0.5838384 &  0.5838384\\\\\n",
       "\t3 & 2 & 21 & 7.866339 & 6 & 0.5172706 & 0.26756884 & 3.1036234 & 1.6054130 & 0 & 0 & ⋯ & 0 & 0 & 0 & 4.927254 & 2 & 6 & -0.2854435 & 0.08147797 &  0.4888678 &  0.4888678\\\\\n",
       "\t4 & 3 & 15 & 7.862882 & 5 & 0.1460233 & 0.02132279 & 0.7301163 & 0.1066140 & 0 & 0 & ⋯ & 0 & 1 & 0 & 5.209486 & 5 & 5 & -0.8326139 & 0.69324596 &  3.4662298 &  3.4662298\\\\\n",
       "\t5 & 4 & 18 & 7.858641 & 8 & 0.0000000 & 0.00000000 & 0.0000000 & 0.0000000 & 1 & 0 & ⋯ & 0 & 0 & 1 & 5.627621 & 1 & 8 & -3.0000000 & 9.00000000 & 72.0000000 & 72.0000000\\\\\n",
       "\t6 & 5 & 13 & 7.852828 & 7 & 0.1550947 & 0.02405435 & 1.0856626 & 0.1683805 & 0 & 1 & ⋯ & 0 & 0 & 0 & 9.427466 & 5 & 7 & -0.8066120 & 0.65062285 &  4.5543599 &  4.5543599\\\\\n",
       "\\end{tabular}\n"
      ],
      "text/markdown": [
       "\n",
       "A data.frame: 6 × 27\n",
       "\n",
       "| <!--/--> | X &lt;int&gt; | title_length &lt;int&gt; | log_lasting_days &lt;dbl&gt; | max_level &lt;int&gt; | content_distance &lt;dbl&gt; | content_distance2 &lt;dbl&gt; | content_distance_by_max_level &lt;dbl&gt; | content_distance2_by_max_level &lt;dbl&gt; | Mon &lt;int&gt; | Tue &lt;int&gt; | ⋯ ⋯ | H_12_15 &lt;int&gt; | H_15_18 &lt;int&gt; | H_18_21 &lt;int&gt; | log_follower_num &lt;dbl&gt; | topic_num &lt;int&gt; | knowledge_granularity &lt;int&gt; | log_content_distance &lt;dbl&gt; | log_content_distance2 &lt;dbl&gt; | log_content_distance_by_max_level &lt;dbl&gt; | log_content_distance2_by_max_level &lt;dbl&gt; |\n",
       "|---|---|---|---|---|---|---|---|---|---|---|---|---|---|---|---|---|---|---|---|---|---|\n",
       "| 1 | 0 | 13 | 7.889084 | 5 | 0.3053453 | 0.09323573 | 1.5267263 | 0.4661786 | 0 | 0 | ⋯ | 0 | 0 | 0 | 8.494334 | 3 | 5 | -0.5137888 | 0.26397897 |  1.3198949 |  1.3198949 |\n",
       "| 2 | 1 | 21 | 7.878913 | 7 | 0.5132803 | 0.26345670 | 3.5929623 | 1.8441969 | 0 | 0 | ⋯ | 1 | 0 | 0 | 8.128880 | 2 | 7 | -0.2888001 | 0.08340549 |  0.5838384 |  0.5838384 |\n",
       "| 3 | 2 | 21 | 7.866339 | 6 | 0.5172706 | 0.26756884 | 3.1036234 | 1.6054130 | 0 | 0 | ⋯ | 0 | 0 | 0 | 4.927254 | 2 | 6 | -0.2854435 | 0.08147797 |  0.4888678 |  0.4888678 |\n",
       "| 4 | 3 | 15 | 7.862882 | 5 | 0.1460233 | 0.02132279 | 0.7301163 | 0.1066140 | 0 | 0 | ⋯ | 0 | 1 | 0 | 5.209486 | 5 | 5 | -0.8326139 | 0.69324596 |  3.4662298 |  3.4662298 |\n",
       "| 5 | 4 | 18 | 7.858641 | 8 | 0.0000000 | 0.00000000 | 0.0000000 | 0.0000000 | 1 | 0 | ⋯ | 0 | 0 | 1 | 5.627621 | 1 | 8 | -3.0000000 | 9.00000000 | 72.0000000 | 72.0000000 |\n",
       "| 6 | 5 | 13 | 7.852828 | 7 | 0.1550947 | 0.02405435 | 1.0856626 | 0.1683805 | 0 | 1 | ⋯ | 0 | 0 | 0 | 9.427466 | 5 | 7 | -0.8066120 | 0.65062285 |  4.5543599 |  4.5543599 |\n",
       "\n"
      ],
      "text/plain": [
       "  X title_length log_lasting_days max_level content_distance content_distance2\n",
       "1 0 13           7.889084         5         0.3053453        0.09323573       \n",
       "2 1 21           7.878913         7         0.5132803        0.26345670       \n",
       "3 2 21           7.866339         6         0.5172706        0.26756884       \n",
       "4 3 15           7.862882         5         0.1460233        0.02132279       \n",
       "5 4 18           7.858641         8         0.0000000        0.00000000       \n",
       "6 5 13           7.852828         7         0.1550947        0.02405435       \n",
       "  content_distance_by_max_level content_distance2_by_max_level Mon Tue ⋯\n",
       "1 1.5267263                     0.4661786                      0   0   ⋯\n",
       "2 3.5929623                     1.8441969                      0   0   ⋯\n",
       "3 3.1036234                     1.6054130                      0   0   ⋯\n",
       "4 0.7301163                     0.1066140                      0   0   ⋯\n",
       "5 0.0000000                     0.0000000                      1   0   ⋯\n",
       "6 1.0856626                     0.1683805                      0   1   ⋯\n",
       "  H_12_15 H_15_18 H_18_21 log_follower_num topic_num knowledge_granularity\n",
       "1 0       0       0       8.494334         3         5                    \n",
       "2 1       0       0       8.128880         2         7                    \n",
       "3 0       0       0       4.927254         2         6                    \n",
       "4 0       1       0       5.209486         5         5                    \n",
       "5 0       0       1       5.627621         1         8                    \n",
       "6 0       0       0       9.427466         5         7                    \n",
       "  log_content_distance log_content_distance2 log_content_distance_by_max_level\n",
       "1 -0.5137888           0.26397897             1.3198949                       \n",
       "2 -0.2888001           0.08340549             0.5838384                       \n",
       "3 -0.2854435           0.08147797             0.4888678                       \n",
       "4 -0.8326139           0.69324596             3.4662298                       \n",
       "5 -3.0000000           9.00000000            72.0000000                       \n",
       "6 -0.8066120           0.65062285             4.5543599                       \n",
       "  log_content_distance2_by_max_level\n",
       "1  1.3198949                        \n",
       "2  0.5838384                        \n",
       "3  0.4888678                        \n",
       "4  3.4662298                        \n",
       "5 72.0000000                        \n",
       "6  4.5543599                        "
      ]
     },
     "metadata": {},
     "output_type": "display_data"
    }
   ],
   "source": [
    "head(data)"
   ]
  },
  {
   "cell_type": "code",
   "execution_count": 4,
   "metadata": {
    "ExecuteTime": {
     "end_time": "2021-09-23T02:00:35.899050Z",
     "start_time": "2021-09-23T02:00:35.871Z"
    }
   },
   "outputs": [
    {
     "data": {
      "text/html": [
       "<style>\n",
       ".list-inline {list-style: none; margin:0; padding: 0}\n",
       ".list-inline>li {display: inline-block}\n",
       ".list-inline>li:not(:last-child)::after {content: \"\\00b7\"; padding: 0 .5ex}\n",
       "</style>\n",
       "<ol class=list-inline><li>'X'</li><li>'title_length'</li><li>'log_lasting_days'</li><li>'max_level'</li><li>'content_distance'</li><li>'content_distance2'</li><li>'content_distance_by_max_level'</li><li>'content_distance2_by_max_level'</li><li>'Mon'</li><li>'Tue'</li><li>'Wed'</li><li>'Thu'</li><li>'Fri'</li><li>'H_0_3'</li><li>'H_3_6'</li><li>'H_6_9'</li><li>'H_9_12'</li><li>'H_12_15'</li><li>'H_15_18'</li><li>'H_18_21'</li><li>'log_follower_num'</li><li>'topic_num'</li><li>'knowledge_granularity'</li><li>'log_content_distance'</li><li>'log_content_distance2'</li><li>'log_content_distance_by_max_level'</li><li>'log_content_distance2_by_max_level'</li></ol>\n"
      ],
      "text/latex": [
       "\\begin{enumerate*}\n",
       "\\item 'X'\n",
       "\\item 'title\\_length'\n",
       "\\item 'log\\_lasting\\_days'\n",
       "\\item 'max\\_level'\n",
       "\\item 'content\\_distance'\n",
       "\\item 'content\\_distance2'\n",
       "\\item 'content\\_distance\\_by\\_max\\_level'\n",
       "\\item 'content\\_distance2\\_by\\_max\\_level'\n",
       "\\item 'Mon'\n",
       "\\item 'Tue'\n",
       "\\item 'Wed'\n",
       "\\item 'Thu'\n",
       "\\item 'Fri'\n",
       "\\item 'H\\_0\\_3'\n",
       "\\item 'H\\_3\\_6'\n",
       "\\item 'H\\_6\\_9'\n",
       "\\item 'H\\_9\\_12'\n",
       "\\item 'H\\_12\\_15'\n",
       "\\item 'H\\_15\\_18'\n",
       "\\item 'H\\_18\\_21'\n",
       "\\item 'log\\_follower\\_num'\n",
       "\\item 'topic\\_num'\n",
       "\\item 'knowledge\\_granularity'\n",
       "\\item 'log\\_content\\_distance'\n",
       "\\item 'log\\_content\\_distance2'\n",
       "\\item 'log\\_content\\_distance\\_by\\_max\\_level'\n",
       "\\item 'log\\_content\\_distance2\\_by\\_max\\_level'\n",
       "\\end{enumerate*}\n"
      ],
      "text/markdown": [
       "1. 'X'\n",
       "2. 'title_length'\n",
       "3. 'log_lasting_days'\n",
       "4. 'max_level'\n",
       "5. 'content_distance'\n",
       "6. 'content_distance2'\n",
       "7. 'content_distance_by_max_level'\n",
       "8. 'content_distance2_by_max_level'\n",
       "9. 'Mon'\n",
       "10. 'Tue'\n",
       "11. 'Wed'\n",
       "12. 'Thu'\n",
       "13. 'Fri'\n",
       "14. 'H_0_3'\n",
       "15. 'H_3_6'\n",
       "16. 'H_6_9'\n",
       "17. 'H_9_12'\n",
       "18. 'H_12_15'\n",
       "19. 'H_15_18'\n",
       "20. 'H_18_21'\n",
       "21. 'log_follower_num'\n",
       "22. 'topic_num'\n",
       "23. 'knowledge_granularity'\n",
       "24. 'log_content_distance'\n",
       "25. 'log_content_distance2'\n",
       "26. 'log_content_distance_by_max_level'\n",
       "27. 'log_content_distance2_by_max_level'\n",
       "\n",
       "\n"
      ],
      "text/plain": [
       " [1] \"X\"                                  \"title_length\"                      \n",
       " [3] \"log_lasting_days\"                   \"max_level\"                         \n",
       " [5] \"content_distance\"                   \"content_distance2\"                 \n",
       " [7] \"content_distance_by_max_level\"      \"content_distance2_by_max_level\"    \n",
       " [9] \"Mon\"                                \"Tue\"                               \n",
       "[11] \"Wed\"                                \"Thu\"                               \n",
       "[13] \"Fri\"                                \"H_0_3\"                             \n",
       "[15] \"H_3_6\"                              \"H_6_9\"                             \n",
       "[17] \"H_9_12\"                             \"H_12_15\"                           \n",
       "[19] \"H_15_18\"                            \"H_18_21\"                           \n",
       "[21] \"log_follower_num\"                   \"topic_num\"                         \n",
       "[23] \"knowledge_granularity\"              \"log_content_distance\"              \n",
       "[25] \"log_content_distance2\"              \"log_content_distance_by_max_level\" \n",
       "[27] \"log_content_distance2_by_max_level\""
      ]
     },
     "metadata": {},
     "output_type": "display_data"
    }
   ],
   "source": [
    "colnames(data)"
   ]
  },
  {
   "cell_type": "code",
   "execution_count": 6,
   "metadata": {},
   "outputs": [
    {
     "data": {
      "text/html": [
       "16"
      ],
      "text/latex": [
       "16"
      ],
      "text/markdown": [
       "16"
      ],
      "text/plain": [
       "[1] 16"
      ]
     },
     "metadata": {},
     "output_type": "display_data"
    }
   ],
   "source": [
    "max(data$topic_num)"
   ]
  },
  {
   "cell_type": "code",
   "execution_count": 9,
   "metadata": {},
   "outputs": [
    {
     "data": {
      "text/html": [
       "<style>\n",
       ".dl-inline {width: auto; margin:0; padding: 0}\n",
       ".dl-inline>dt, .dl-inline>dd {float: none; width: auto; display: inline-block}\n",
       ".dl-inline>dt::after {content: \":\\0020\"; padding-right: .5ex}\n",
       ".dl-inline>dt:not(:first-of-type) {padding-left: .5ex}\n",
       "</style><dl class=dl-inline><dt>70%</dt><dd>4</dd><dt>80%</dt><dd>5</dd><dt>90%</dt><dd>5</dd><dt>95%</dt><dd>5</dd><dt>99%</dt><dd>5</dd></dl>\n"
      ],
      "text/latex": [
       "\\begin{description*}\n",
       "\\item[70\\textbackslash{}\\%] 4\n",
       "\\item[80\\textbackslash{}\\%] 5\n",
       "\\item[90\\textbackslash{}\\%] 5\n",
       "\\item[95\\textbackslash{}\\%] 5\n",
       "\\item[99\\textbackslash{}\\%] 5\n",
       "\\end{description*}\n"
      ],
      "text/markdown": [
       "70%\n",
       ":   480%\n",
       ":   590%\n",
       ":   595%\n",
       ":   599%\n",
       ":   5\n",
       "\n"
      ],
      "text/plain": [
       "70% 80% 90% 95% 99% \n",
       "  4   5   5   5   5 "
      ]
     },
     "metadata": {},
     "output_type": "display_data"
    }
   ],
   "source": [
    "quantile(data$topic_num, c(.7, .8, .9, .95, .99))"
   ]
  },
  {
   "cell_type": "code",
   "execution_count": 5,
   "metadata": {},
   "outputs": [
    {
     "data": {
      "image/png": "[encoded data removed]",
      "text/plain": [
       "Plot with title “Histogram of data$topic_num”"
      ]
     },
     "metadata": {
      "image/png": {
       "height": 420,
       "width": 420
      }
     },
     "output_type": "display_data"
    }
   ],
   "source": [
    "hist(data$topic_num)"
   ]
  },
  {
   "cell_type": "code",
   "execution_count": 120,
   "metadata": {
    "ExecuteTime": {
     "end_time": "2021-09-22T04:52:35.771155Z",
     "start_time": "2021-09-22T04:52:34.765Z"
    }
   },
   "outputs": [],
   "source": [
    "model_1 = lm(log_follower_num ~poly(log_content_distance, 2) ,\n",
    "          data = data)"
   ]
  },
  {
   "cell_type": "code",
   "execution_count": 41,
   "metadata": {
    "ExecuteTime": {
     "end_time": "2021-09-21T07:47:58.738873Z",
     "start_time": "2021-09-21T07:47:58.151Z"
    }
   },
   "outputs": [],
   "source": [
    "model_2 = lm(log_follower_num ~\n",
    "           poly(log_content_distance, 2)+ knowledge_granularity \n",
    "             + title_length+log_lasting_days+Mon+Tue+Wed+Thu+Fri,\n",
    "          data = data)"
   ]
  },
  {
   "cell_type": "code",
   "execution_count": 43,
   "metadata": {
    "ExecuteTime": {
     "end_time": "2021-09-21T07:47:58.738873Z",
     "start_time": "2021-09-21T07:47:58.151Z"
    }
   },
   "outputs": [],
   "source": [
    "model_3 = lm(log_follower_num ~\n",
    "           poly(log_content_distance, 2)*knowledge_granularity\n",
    "           + title_length+log_lasting_days+Mon+Tue+Wed+Thu+Fri,\n",
    "          data = data)"
   ]
  },
  {
   "cell_type": "code",
   "execution_count": 31,
   "metadata": {},
   "outputs": [],
   "source": [
    "model1 = lm(log_follower_num ~\n",
    "           poly(log_content_distance, 2) + knowledge_granularity\n",
    "           +title_length+log_lasting_days+\n",
    "        +Mon+Tue+Wed+Thu+Fri+H_0_3+H_3_6+H_6_9+H_9_12+H_12_15+H_15_18+H_18_21,\n",
    "          data = data)"
   ]
  },
  {
   "cell_type": "code",
   "execution_count": 32,
   "metadata": {},
   "outputs": [],
   "source": [
    "model2 = lm(scale(log_follower_num) ~\n",
    "           poly(scale(log_content_distance), 2) + scale(knowledge_granularity)\n",
    "           +scale(title_length)+scale(log_lasting_days)+\n",
    "        +Mon+Tue+Wed+Thu+Fri+H_0_3+H_3_6+H_6_9+H_9_12+H_12_15+H_15_18+H_18_21,\n",
    "          data = data)"
   ]
  },
  {
   "cell_type": "code",
   "execution_count": 9,
   "metadata": {
    "ExecuteTime": {
     "end_time": "2021-09-21T07:13:35.498551Z",
     "start_time": "2021-09-21T07:13:34.600Z"
    }
   },
   "outputs": [],
   "source": [
    "model3 = lm(log_follower_num ~\n",
    "           poly(log_content_distance, 2)*knowledge_granularity\n",
    "           +title_length+log_lasting_days+\n",
    "        +Mon+Tue+Wed+Thu+Fri+H_0_3+H_3_6+H_6_9+H_9_12+H_12_15+H_15_18+H_18_21,\n",
    "          data = data)"
   ]
  },
  {
   "cell_type": "code",
   "execution_count": 30,
   "metadata": {
    "scrolled": true
   },
   "outputs": [],
   "source": [
    "model4 = lm(scale(log_follower_num) ~\n",
    "           poly(scale(log_content_distance), 2)*scale(knowledge_granularity)\n",
    "           +scale(title_length)+scale(log_lasting_days)+\n",
    "        +Mon+Tue+Wed+Thu+Fri+H_0_3+H_3_6+H_6_9+H_9_12+H_12_15+H_15_18+H_18_21,\n",
    "          data = data)"
   ]
  },
  {
   "cell_type": "code",
   "execution_count": 33,
   "metadata": {},
   "outputs": [
    {
     "data": {
      "text/plain": [
       "\n",
       "Call:\n",
       "lm(formula = log_follower_num ~ poly(log_content_distance, 2) * \n",
       "    knowledge_granularity + title_length + log_lasting_days + \n",
       "    +Mon + Tue + Wed + Thu + Fri + H_0_3 + H_3_6 + H_6_9 + H_9_12 + \n",
       "    H_12_15 + H_15_18 + H_18_21, data = data)\n",
       "\n",
       "Standardized Coefficients::\n",
       "                                         (Intercept) \n",
       "                                                  NA \n",
       "                      poly(log_content_distance, 2)1 \n",
       "                                        2.360905e-01 \n",
       "                      poly(log_content_distance, 2)2 \n",
       "                                       -2.993078e-02 \n",
       "                               knowledge_granularity \n",
       "                                       -1.271282e-02 \n",
       "                                        title_length \n",
       "                                       -4.911254e-02 \n",
       "                                    log_lasting_days \n",
       "                                        5.519531e-01 \n",
       "                                                 Mon \n",
       "                                        1.293321e-03 \n",
       "                                                 Tue \n",
       "                                        1.570922e-03 \n",
       "                                                 Wed \n",
       "                                        3.356974e-03 \n",
       "                                                 Thu \n",
       "                                        8.780974e-05 \n",
       "                                                 Fri \n",
       "                                        2.463941e-04 \n",
       "                                               H_0_3 \n",
       "                                        3.893721e-03 \n",
       "                                               H_3_6 \n",
       "                                        1.902362e-03 \n",
       "                                               H_6_9 \n",
       "                                       -1.509158e-04 \n",
       "                                              H_9_12 \n",
       "                                       -2.732252e-04 \n",
       "                                             H_12_15 \n",
       "                                        2.608573e-03 \n",
       "                                             H_15_18 \n",
       "                                       -2.536101e-03 \n",
       "                                             H_18_21 \n",
       "                                        5.640434e-04 \n",
       "poly(log_content_distance, 2)1:knowledge_granularity \n",
       "                                       -3.834813e-02 \n",
       "poly(log_content_distance, 2)2:knowledge_granularity \n",
       "                                       -2.401251e-02 \n"
      ]
     },
     "metadata": {},
     "output_type": "display_data"
    }
   ],
   "source": [
    "library(\"lm.beta\")\n",
    "\n",
    "lm.beta(model3)"
   ]
  },
  {
   "cell_type": "code",
   "execution_count": 85,
   "metadata": {
    "ExecuteTime": {
     "end_time": "2021-09-22T03:08:53.714842Z",
     "start_time": "2021-09-22T03:08:50.666Z"
    }
   },
   "outputs": [
    {
     "name": "stdout",
     "output_type": "stream",
     "text": [
      "\n",
      "The downloaded binary packages are in\n",
      "\t/var/folders/8b/hhnbt0nd4zsg2qhxc28q23w80000gn/T//RtmpC7gy6f/downloaded_packages\n"
     ]
    }
   ],
   "source": [
    "install.packages(\"simpleboot\")"
   ]
  },
  {
   "cell_type": "code",
   "execution_count": 107,
   "metadata": {
    "ExecuteTime": {
     "end_time": "2021-09-22T03:25:50.894785Z",
     "start_time": "2021-09-22T03:25:50.879Z"
    }
   },
   "outputs": [
    {
     "data": {
      "text/html": [
       "<ol class=list-inline>\n",
       "\t<li>0.263978971200245</li>\n",
       "\t<li>0.0834054887028545</li>\n",
       "\t<li>0.0814779666115052</li>\n",
       "</ol>\n"
      ],
      "text/latex": [
       "\\begin{enumerate*}\n",
       "\\item 0.263978971200245\n",
       "\\item 0.0834054887028545\n",
       "\\item 0.0814779666115052\n",
       "\\end{enumerate*}\n"
      ],
      "text/markdown": [
       "1. 0.263978971200245\n",
       "2. 0.0834054887028545\n",
       "3. 0.0814779666115052\n",
       "\n",
       "\n"
      ],
      "text/plain": [
       "[1] 0.26397897 0.08340549 0.08147797"
      ]
     },
     "metadata": {},
     "output_type": "display_data"
    }
   ],
   "source": [
    "data$log_content_distance2[0:3]"
   ]
  },
  {
   "cell_type": "code",
   "execution_count": 95,
   "metadata": {
    "ExecuteTime": {
     "end_time": "2021-09-22T03:22:15.745638Z",
     "start_time": "2021-09-22T03:22:08.629Z"
    }
   },
   "outputs": [
    {
     "data": {
      "text/plain": [
       "BOOTSTRAP OF LINEAR MODEL  (method = rows)\n",
       "\n",
       "Original Model Fit\n",
       "------------------\n",
       "Call:\n",
       "lm(formula = log_follower_num ~ log_content_distance, data = data)\n",
       "\n",
       "Coefficients:\n",
       "         (Intercept)  log_content_distance  \n",
       "              5.0534                0.7136  \n",
       "\n",
       "Bootstrap SD's:\n",
       "         (Intercept)  log_content_distance  \n",
       "         0.008198888           0.004218208  \n"
      ]
     },
     "metadata": {},
     "output_type": "display_data"
    }
   ],
   "source": [
    "# lm.boot Linear model bootstrap\n",
    "library('simpleboot')\n",
    "\n",
    "model_1 = lm(log_follower_num ~log_content_distance ,\n",
    "          data = data)\n",
    "\n",
    "lboot <- lm.boot(model_1, R=10) # 199 bootstrap samples--too small to be useful\n",
    "summary(lboot)  # default summary"
   ]
  },
  {
   "cell_type": "code",
   "execution_count": 122,
   "metadata": {
    "ExecuteTime": {
     "end_time": "2021-09-22T04:53:09.096599Z",
     "start_time": "2021-09-22T04:53:08.811Z"
    }
   },
   "outputs": [
    {
     "data": {
      "text/plain": [
       "\n",
       "Call:\n",
       "lm(formula = log_follower_num ~ poly(log_content_distance, 2, \n",
       "    raw = TRUE), data = data)\n",
       "\n",
       "Residuals:\n",
       "    Min      1Q  Median      3Q     Max \n",
       "-4.6111 -1.6659 -0.3541  1.4727  9.3109 \n",
       "\n",
       "Coefficients:\n",
       "                                            Estimate Std. Error t value\n",
       "(Intercept)                                 4.620411   0.014875 310.622\n",
       "poly(log_content_distance, 2, raw = TRUE)1  0.039602   0.021334   1.856\n",
       "poly(log_content_distance, 2, raw = TRUE)2 -0.184738   0.005762 -32.062\n",
       "                                           Pr(>|t|)    \n",
       "(Intercept)                                  <2e-16 ***\n",
       "poly(log_content_distance, 2, raw = TRUE)1   0.0634 .  \n",
       "poly(log_content_distance, 2, raw = TRUE)2   <2e-16 ***\n",
       "---\n",
       "Signif. codes:  0 ‘***’ 0.001 ‘**’ 0.01 ‘*’ 0.05 ‘.’ 0.1 ‘ ’ 1\n",
       "\n",
       "Residual standard error: 2.123 on 404574 degrees of freedom\n",
       "Multiple R-squared:  0.08921,\tAdjusted R-squared:  0.0892 \n",
       "F-statistic: 1.981e+04 on 2 and 404574 DF,  p-value: < 2.2e-16\n"
      ]
     },
     "metadata": {},
     "output_type": "display_data"
    }
   ],
   "source": [
    "model_1R = lm(log_follower_num ~poly(log_content_distance, 2, raw = TRUE) ,\n",
    "          data = data)\n",
    "summary(model_1R)"
   ]
  },
  {
   "cell_type": "code",
   "execution_count": 121,
   "metadata": {
    "ExecuteTime": {
     "end_time": "2021-09-22T04:52:44.156582Z",
     "start_time": "2021-09-22T04:52:43.973Z"
    }
   },
   "outputs": [
    {
     "data": {
      "text/plain": [
       "\n",
       "Call:\n",
       "lm(formula = log_follower_num ~ poly(log_content_distance, 2), \n",
       "    data = data)\n",
       "\n",
       "Residuals:\n",
       "    Min      1Q  Median      3Q     Max \n",
       "-4.6111 -1.6659 -0.3541  1.4727  9.3109 \n",
       "\n",
       "Coefficients:\n",
       "                                 Estimate Std. Error t value Pr(>|t|)    \n",
       "(Intercept)                      4.018363   0.003338 1203.81   <2e-16 ***\n",
       "poly(log_content_distance, 2)1 417.131008   2.123201  196.46   <2e-16 ***\n",
       "poly(log_content_distance, 2)2 -68.074045   2.123201  -32.06   <2e-16 ***\n",
       "---\n",
       "Signif. codes:  0 ‘***’ 0.001 ‘**’ 0.01 ‘*’ 0.05 ‘.’ 0.1 ‘ ’ 1\n",
       "\n",
       "Residual standard error: 2.123 on 404574 degrees of freedom\n",
       "Multiple R-squared:  0.08921,\tAdjusted R-squared:  0.0892 \n",
       "F-statistic: 1.981e+04 on 2 and 404574 DF,  p-value: < 2.2e-16\n"
      ]
     },
     "metadata": {},
     "output_type": "display_data"
    }
   ],
   "source": [
    "summary(model_1)\n"
   ]
  },
  {
   "cell_type": "code",
   "execution_count": 52,
   "metadata": {
    "ExecuteTime": {
     "end_time": "2021-09-21T08:43:48.269113Z",
     "start_time": "2021-09-21T08:43:48.208Z"
    }
   },
   "outputs": [
    {
     "data": {
      "text/plain": [
       "\n",
       "Call:\n",
       "lm(formula = log_follower_num ~ poly(log_content_distance, 2) + \n",
       "    knowledge_granularity + title_length + log_lasting_days + \n",
       "    Mon + Tue + Wed + Thu + Fri, data = data)\n",
       "\n",
       "Residuals:\n",
       "    Min      1Q  Median      3Q     Max \n",
       "-5.8617 -1.1492 -0.1254  1.0077  8.5124 \n",
       "\n",
       "Coefficients:\n",
       "                                 Estimate Std. Error t value Pr(>|t|)    \n",
       "(Intercept)                     3.592e-01  1.486e-02  24.172  < 2e-16 ***\n",
       "poly(log_content_distance, 2)1  2.806e+02  1.831e+00 153.239  < 2e-16 ***\n",
       "poly(log_content_distance, 2)2 -7.694e+01  1.771e+00 -43.454  < 2e-16 ***\n",
       "knowledge_granularity          -9.572e-03  1.599e-03  -5.985 2.16e-09 ***\n",
       "title_length                   -1.075e-02  2.690e-04 -39.960  < 2e-16 ***\n",
       "log_lasting_days                7.239e-01  1.642e-03 440.866  < 2e-16 ***\n",
       "Mon                             7.327e-03  8.897e-03   0.823   0.4102    \n",
       "Tue                             8.452e-03  8.800e-03   0.961   0.3368    \n",
       "Wed                             1.928e-02  8.761e-03   2.201   0.0278 *  \n",
       "Thu                            -2.644e-04  8.950e-03  -0.030   0.9764    \n",
       "Fri                             6.313e-04  9.149e-03   0.069   0.9450    \n",
       "---\n",
       "Signif. codes:  0 ‘***’ 0.001 ‘**’ 0.01 ‘*’ 0.05 ‘.’ 0.1 ‘ ’ 1\n",
       "\n",
       "Residual standard error: 1.738 on 404566 degrees of freedom\n",
       "Multiple R-squared:  0.3895,\tAdjusted R-squared:  0.3895 \n",
       "F-statistic: 2.581e+04 on 10 and 404566 DF,  p-value: < 2.2e-16\n"
      ]
     },
     "metadata": {},
     "output_type": "display_data"
    }
   ],
   "source": [
    "summary(model_2)\n"
   ]
  },
  {
   "cell_type": "code",
   "execution_count": 54,
   "metadata": {
    "ExecuteTime": {
     "end_time": "2021-09-21T08:44:45.432522Z",
     "start_time": "2021-09-21T08:44:45.373Z"
    }
   },
   "outputs": [
    {
     "data": {
      "text/plain": [
       "\n",
       "Call:\n",
       "lm(formula = log_follower_num ~ poly(log_content_distance, 2) * \n",
       "    knowledge_granularity + title_length + log_lasting_days + \n",
       "    Mon + Tue + Wed + Thu + Fri, data = data)\n",
       "\n",
       "Residuals:\n",
       "    Min      1Q  Median      3Q     Max \n",
       "-5.8478 -1.1494 -0.1253  1.0084  8.5337 \n",
       "\n",
       "Coefficients:\n",
       "                                                       Estimate Std. Error\n",
       "(Intercept)                                           3.978e-01  1.541e-02\n",
       "poly(log_content_distance, 2)1                        3.342e+02  5.091e+00\n",
       "poly(log_content_distance, 2)2                       -4.251e+01  6.281e+00\n",
       "knowledge_granularity                                -1.575e-02  1.711e-03\n",
       "title_length                                         -1.073e-02  2.690e-04\n",
       "log_lasting_days                                      7.236e-01  1.642e-03\n",
       "Mon                                                   7.463e-03  8.896e-03\n",
       "Tue                                                   8.751e-03  8.798e-03\n",
       "Wed                                                   1.967e-02  8.760e-03\n",
       "Thu                                                  -7.504e-05  8.948e-03\n",
       "Fri                                                   7.868e-04  9.148e-03\n",
       "poly(log_content_distance, 2)1:knowledge_granularity -1.040e+01  9.376e-01\n",
       "poly(log_content_distance, 2)2:knowledge_granularity -5.813e+00  1.069e+00\n",
       "                                                     t value Pr(>|t|)    \n",
       "(Intercept)                                           25.818  < 2e-16 ***\n",
       "poly(log_content_distance, 2)1                        65.640  < 2e-16 ***\n",
       "poly(log_content_distance, 2)2                        -6.769 1.30e-11 ***\n",
       "knowledge_granularity                                 -9.203  < 2e-16 ***\n",
       "title_length                                         -39.874  < 2e-16 ***\n",
       "log_lasting_days                                     440.670  < 2e-16 ***\n",
       "Mon                                                    0.839   0.4015    \n",
       "Tue                                                    0.995   0.3199    \n",
       "Wed                                                    2.245   0.0247 *  \n",
       "Thu                                                   -0.008   0.9933    \n",
       "Fri                                                    0.086   0.9315    \n",
       "poly(log_content_distance, 2)1:knowledge_granularity -11.097  < 2e-16 ***\n",
       "poly(log_content_distance, 2)2:knowledge_granularity  -5.438 5.39e-08 ***\n",
       "---\n",
       "Signif. codes:  0 ‘***’ 0.001 ‘**’ 0.01 ‘*’ 0.05 ‘.’ 0.1 ‘ ’ 1\n",
       "\n",
       "Residual standard error: 1.738 on 404564 degrees of freedom\n",
       "Multiple R-squared:  0.3897,\tAdjusted R-squared:  0.3897 \n",
       "F-statistic: 2.153e+04 on 12 and 404564 DF,  p-value: < 2.2e-16\n"
      ]
     },
     "metadata": {},
     "output_type": "display_data"
    }
   ],
   "source": [
    "summary(model_3)\n"
   ]
  },
  {
   "cell_type": "code",
   "execution_count": 35,
   "metadata": {
    "ExecuteTime": {
     "end_time": "2021-09-22T02:59:03.419004Z",
     "start_time": "2021-09-22T02:59:02.041Z"
    }
   },
   "outputs": [
    {
     "name": "stdout",
     "output_type": "stream",
     "text": [
      "\n",
      "<table style=\"text-align:center\"><tr><td colspan=\"5\" style=\"border-bottom: 1px solid black\"></td></tr><tr><td style=\"text-align:left\"></td><td colspan=\"4\"><em>Dependent variable:</em></td></tr>\n",
      "<tr><td></td><td colspan=\"4\" style=\"border-bottom: 1px solid black\"></td></tr>\n",
      "<tr><td style=\"text-align:left\"></td><td>log_follower_num</td><td>scale(log_follower_num)</td><td>log_follower_num</td><td>scale(log_follower_num)</td></tr>\n",
      "<tr><td style=\"text-align:left\"></td><td>(1)</td><td>(2)</td><td>(3)</td><td>(4)</td></tr>\n",
      "<tr><td colspan=\"5\" style=\"border-bottom: 1px solid black\"></td></tr><tr><td style=\"text-align:left\">poly(log_content_distance, 2)1</td><td>280.480<sup>***</sup></td><td></td><td>334.086<sup>***</sup></td><td></td></tr>\n",
      "<tr><td style=\"text-align:left\"></td><td>(1.832)</td><td></td><td>(5.091)</td><td></td></tr>\n",
      "<tr><td style=\"text-align:left\"></td><td></td><td></td><td></td><td></td></tr>\n",
      "<tr><td style=\"text-align:left\">poly(log_content_distance, 2)2</td><td>-76.863<sup>***</sup></td><td></td><td>-42.354<sup>***</sup></td><td></td></tr>\n",
      "<tr><td style=\"text-align:left\"></td><td>(1.771)</td><td></td><td>(6.281)</td><td></td></tr>\n",
      "<tr><td style=\"text-align:left\"></td><td></td><td></td><td></td><td></td></tr>\n",
      "<tr><td style=\"text-align:left\">knowledge_granularity</td><td>-0.010<sup>***</sup></td><td></td><td>-0.016<sup>***</sup></td><td></td></tr>\n",
      "<tr><td style=\"text-align:left\"></td><td>(0.002)</td><td></td><td>(0.002)</td><td></td></tr>\n",
      "<tr><td style=\"text-align:left\"></td><td></td><td></td><td></td><td></td></tr>\n",
      "<tr><td style=\"text-align:left\">title_length</td><td>-0.011<sup>***</sup></td><td></td><td>-0.011<sup>***</sup></td><td></td></tr>\n",
      "<tr><td style=\"text-align:left\"></td><td>(0.0003)</td><td></td><td>(0.0003)</td><td></td></tr>\n",
      "<tr><td style=\"text-align:left\"></td><td></td><td></td><td></td><td></td></tr>\n",
      "<tr><td style=\"text-align:left\">log_lasting_days</td><td>0.724<sup>***</sup></td><td></td><td>0.724<sup>***</sup></td><td></td></tr>\n",
      "<tr><td style=\"text-align:left\"></td><td>(0.002)</td><td></td><td>(0.002)</td><td></td></tr>\n",
      "<tr><td style=\"text-align:left\"></td><td></td><td></td><td></td><td></td></tr>\n",
      "<tr><td style=\"text-align:left\">poly(scale(log_content_distance), 2)1</td><td></td><td>126.073<sup>***</sup></td><td></td><td>124.914<sup>***</sup></td></tr>\n",
      "<tr><td style=\"text-align:left\"></td><td></td><td>(0.823)</td><td></td><td>(0.845)</td></tr>\n",
      "<tr><td style=\"text-align:left\"></td><td></td><td></td><td></td><td></td></tr>\n",
      "<tr><td style=\"text-align:left\">poly(scale(log_content_distance), 2)2</td><td></td><td>-34.549<sup>***</sup></td><td></td><td>-33.177<sup>***</sup></td></tr>\n",
      "<tr><td style=\"text-align:left\"></td><td></td><td>(0.796)</td><td></td><td>(0.807)</td></tr>\n",
      "<tr><td style=\"text-align:left\"></td><td></td><td></td><td></td><td></td></tr>\n",
      "<tr><td style=\"text-align:left\">scale(knowledge_granularity)</td><td></td><td>-0.008<sup>***</sup></td><td></td><td>-0.013<sup>***</sup></td></tr>\n",
      "<tr><td style=\"text-align:left\"></td><td></td><td>(0.001)</td><td></td><td>(0.001)</td></tr>\n",
      "<tr><td style=\"text-align:left\"></td><td></td><td></td><td></td><td></td></tr>\n",
      "<tr><td style=\"text-align:left\">scale(title_length)</td><td></td><td>-0.049<sup>***</sup></td><td></td><td>-0.049<sup>***</sup></td></tr>\n",
      "<tr><td style=\"text-align:left\"></td><td></td><td>(0.001)</td><td></td><td>(0.001)</td></tr>\n",
      "<tr><td style=\"text-align:left\"></td><td></td><td></td><td></td><td></td></tr>\n",
      "<tr><td style=\"text-align:left\">scale(log_lasting_days)</td><td></td><td>0.552<sup>***</sup></td><td></td><td>0.552<sup>***</sup></td></tr>\n",
      "<tr><td style=\"text-align:left\"></td><td></td><td>(0.001)</td><td></td><td>(0.001)</td></tr>\n",
      "<tr><td style=\"text-align:left\"></td><td></td><td></td><td></td><td></td></tr>\n",
      "<tr><td style=\"text-align:left\">Mon</td><td>0.008</td><td>0.004</td><td>0.008</td><td>0.004</td></tr>\n",
      "<tr><td style=\"text-align:left\"></td><td>(0.009)</td><td>(0.004)</td><td>(0.009)</td><td>(0.004)</td></tr>\n",
      "<tr><td style=\"text-align:left\"></td><td></td><td></td><td></td><td></td></tr>\n",
      "<tr><td style=\"text-align:left\">Tue</td><td>0.009</td><td>0.004</td><td>0.010</td><td>0.004</td></tr>\n",
      "<tr><td style=\"text-align:left\"></td><td>(0.009)</td><td>(0.004)</td><td>(0.009)</td><td>(0.004)</td></tr>\n",
      "<tr><td style=\"text-align:left\"></td><td></td><td></td><td></td><td></td></tr>\n",
      "<tr><td style=\"text-align:left\">Wed</td><td>0.020<sup>**</sup></td><td>0.009<sup>**</sup></td><td>0.021<sup>**</sup></td><td>0.009<sup>**</sup></td></tr>\n",
      "<tr><td style=\"text-align:left\"></td><td>(0.009)</td><td>(0.004)</td><td>(0.009)</td><td>(0.004)</td></tr>\n",
      "<tr><td style=\"text-align:left\"></td><td></td><td></td><td></td><td></td></tr>\n",
      "<tr><td style=\"text-align:left\">Thu</td><td>0.0004</td><td>0.0002</td><td>0.001</td><td>0.0002</td></tr>\n",
      "<tr><td style=\"text-align:left\"></td><td>(0.009)</td><td>(0.004)</td><td>(0.009)</td><td>(0.004)</td></tr>\n",
      "<tr><td style=\"text-align:left\"></td><td></td><td></td><td></td><td></td></tr>\n",
      "<tr><td style=\"text-align:left\">Fri</td><td>0.001</td><td>0.001</td><td>0.002</td><td>0.001</td></tr>\n",
      "<tr><td style=\"text-align:left\"></td><td>(0.009)</td><td>(0.004)</td><td>(0.009)</td><td>(0.004)</td></tr>\n",
      "<tr><td style=\"text-align:left\"></td><td></td><td></td><td></td><td></td></tr>\n",
      "<tr><td style=\"text-align:left\">H_0_3</td><td>0.032<sup>***</sup></td><td>0.014<sup>***</sup></td><td>0.032<sup>***</sup></td><td>0.014<sup>***</sup></td></tr>\n",
      "<tr><td style=\"text-align:left\"></td><td>(0.012)</td><td>(0.005)</td><td>(0.012)</td><td>(0.005)</td></tr>\n",
      "<tr><td style=\"text-align:left\"></td><td></td><td></td><td></td><td></td></tr>\n",
      "<tr><td style=\"text-align:left\">H_3_6</td><td>0.032</td><td>0.014</td><td>0.032</td><td>0.014</td></tr>\n",
      "<tr><td style=\"text-align:left\"></td><td>(0.021)</td><td>(0.010)</td><td>(0.021)</td><td>(0.010)</td></tr>\n",
      "<tr><td style=\"text-align:left\"></td><td></td><td></td><td></td><td></td></tr>\n",
      "<tr><td style=\"text-align:left\">H_6_9</td><td>-0.002</td><td>-0.001</td><td>-0.002</td><td>-0.001</td></tr>\n",
      "<tr><td style=\"text-align:left\"></td><td>(0.014)</td><td>(0.006)</td><td>(0.014)</td><td>(0.006)</td></tr>\n",
      "<tr><td style=\"text-align:left\"></td><td></td><td></td><td></td><td></td></tr>\n",
      "<tr><td style=\"text-align:left\">H_9_12</td><td>-0.002</td><td>-0.001</td><td>-0.002</td><td>-0.001</td></tr>\n",
      "<tr><td style=\"text-align:left\"></td><td>(0.009)</td><td>(0.004)</td><td>(0.009)</td><td>(0.004)</td></tr>\n",
      "<tr><td style=\"text-align:left\"></td><td></td><td></td><td></td><td></td></tr>\n",
      "<tr><td style=\"text-align:left\">H_12_15</td><td>0.016<sup>*</sup></td><td>0.007<sup>*</sup></td><td>0.016<sup>*</sup></td><td>0.007<sup>*</sup></td></tr>\n",
      "<tr><td style=\"text-align:left\"></td><td>(0.009)</td><td>(0.004)</td><td>(0.009)</td><td>(0.004)</td></tr>\n",
      "<tr><td style=\"text-align:left\"></td><td></td><td></td><td></td><td></td></tr>\n",
      "<tr><td style=\"text-align:left\">H_15_18</td><td>-0.015</td><td>-0.007</td><td>-0.015</td><td>-0.007</td></tr>\n",
      "<tr><td style=\"text-align:left\"></td><td>(0.009)</td><td>(0.004)</td><td>(0.009)</td><td>(0.004)</td></tr>\n",
      "<tr><td style=\"text-align:left\"></td><td></td><td></td><td></td><td></td></tr>\n",
      "<tr><td style=\"text-align:left\">H_18_21</td><td>0.003</td><td>0.002</td><td>0.003</td><td>0.002</td></tr>\n",
      "<tr><td style=\"text-align:left\"></td><td>(0.009)</td><td>(0.004)</td><td>(0.009)</td><td>(0.004)</td></tr>\n",
      "<tr><td style=\"text-align:left\"></td><td></td><td></td><td></td><td></td></tr>\n",
      "<tr><td style=\"text-align:left\">poly(log_content_distance, 2)1:knowledge_granularity</td><td></td><td></td><td>-10.410<sup>***</sup></td><td></td></tr>\n",
      "<tr><td style=\"text-align:left\"></td><td></td><td></td><td>(0.938)</td><td></td></tr>\n",
      "<tr><td style=\"text-align:left\"></td><td></td><td></td><td></td><td></td></tr>\n",
      "<tr><td style=\"text-align:left\">poly(log_content_distance, 2)2:knowledge_granularity</td><td></td><td></td><td>-5.828<sup>***</sup></td><td></td></tr>\n",
      "<tr><td style=\"text-align:left\"></td><td></td><td></td><td>(1.069)</td><td></td></tr>\n",
      "<tr><td style=\"text-align:left\"></td><td></td><td></td><td></td><td></td></tr>\n",
      "<tr><td style=\"text-align:left\">poly(scale(log_content_distance), 2)1:scale(knowledge_granularity)</td><td></td><td></td><td></td><td>-8.430<sup>***</sup></td></tr>\n",
      "<tr><td style=\"text-align:left\"></td><td></td><td></td><td></td><td>(0.759)</td></tr>\n",
      "<tr><td style=\"text-align:left\"></td><td></td><td></td><td></td><td></td></tr>\n",
      "<tr><td style=\"text-align:left\">poly(scale(log_content_distance), 2)2:scale(knowledge_granularity)</td><td></td><td></td><td></td><td>-4.720<sup>***</sup></td></tr>\n",
      "<tr><td style=\"text-align:left\"></td><td></td><td></td><td></td><td>(0.866)</td></tr>\n",
      "<tr><td style=\"text-align:left\"></td><td></td><td></td><td></td><td></td></tr>\n",
      "<tr><td style=\"text-align:left\">Constant</td><td>0.355<sup>***</sup></td><td>-0.004</td><td>0.394<sup>***</sup></td><td>-0.002</td></tr>\n",
      "<tr><td style=\"text-align:left\"></td><td>(0.016)</td><td>(0.003)</td><td>(0.016)</td><td>(0.004)</td></tr>\n",
      "<tr><td style=\"text-align:left\"></td><td></td><td></td><td></td><td></td></tr>\n",
      "<tr><td colspan=\"5\" style=\"border-bottom: 1px solid black\"></td></tr><tr><td style=\"text-align:left\">Observations</td><td>404,577</td><td>404,577</td><td>404,577</td><td>404,577</td></tr>\n",
      "<tr><td style=\"text-align:left\">R<sup>2</sup></td><td>0.390</td><td>0.390</td><td>0.390</td><td>0.390</td></tr>\n",
      "<tr><td style=\"text-align:left\">Adjusted R<sup>2</sup></td><td>0.390</td><td>0.390</td><td>0.390</td><td>0.390</td></tr>\n",
      "<tr><td style=\"text-align:left\">Residual Std. Error</td><td>1.738 (df = 404559)</td><td>0.781 (df = 404559)</td><td>1.738 (df = 404557)</td><td>0.781 (df = 404557)</td></tr>\n",
      "<tr><td style=\"text-align:left\">F Statistic</td><td>15,185.870<sup>***</sup> (df = 17; 404559)</td><td>15,185.870<sup>***</sup> (df = 17; 404559)</td><td>13,598.870<sup>***</sup> (df = 19; 404557)</td><td>13,598.870<sup>***</sup> (df = 19; 404557)</td></tr>\n",
      "<tr><td colspan=\"5\" style=\"border-bottom: 1px solid black\"></td></tr><tr><td style=\"text-align:left\"><em>Note:</em></td><td colspan=\"4\" style=\"text-align:right\"><sup>*</sup>p<0.1; <sup>**</sup>p<0.05; <sup>***</sup>p<0.01</td></tr>\n",
      "</table>\n"
     ]
    }
   ],
   "source": [
    "# write regression tabel to word\n",
    "stargazer(model1, model2, model3, model4,\n",
    "          type = 'html',\n",
    "          out = 'regression_table2023_html.doc',\n",
    "          summary=FALSE\n",
    ")"
   ]
  },
  {
   "cell_type": "markdown",
   "metadata": {},
   "source": [
    "<table style=\"text-align:center\"><tr><td colspan=\"5\" style=\"border-bottom: 1px solid black\"></td></tr><tr><td style=\"text-align:left\"></td><td colspan=\"4\"><em>Dependent variable:</em></td></tr>\n",
    "<tr><td></td><td colspan=\"4\" style=\"border-bottom: 1px solid black\"></td></tr>\n",
    "<tr><td style=\"text-align:left\"></td><td>log_follower_num</td><td>scale(log_follower_num)</td><td>log_follower_num</td><td>scale(log_follower_num)</td></tr>\n",
    "<tr><td style=\"text-align:left\"></td><td>(1)</td><td>(2)</td><td>(3)</td><td>(4)</td></tr>\n",
    "<tr><td colspan=\"5\" style=\"border-bottom: 1px solid black\"></td></tr><tr><td style=\"text-align:left\">poly(log_content_distance, 2)1</td><td>280.480<sup>***</sup></td><td></td><td>334.086<sup>***</sup></td><td></td></tr>\n",
    "<tr><td style=\"text-align:left\"></td><td>(1.832)</td><td></td><td>(5.091)</td><td></td></tr>\n",
    "<tr><td style=\"text-align:left\"></td><td></td><td></td><td></td><td></td></tr>\n",
    "<tr><td style=\"text-align:left\">poly(log_content_distance, 2)2</td><td>-76.863<sup>***</sup></td><td></td><td>-42.354<sup>***</sup></td><td></td></tr>\n",
    "<tr><td style=\"text-align:left\"></td><td>(1.771)</td><td></td><td>(6.281)</td><td></td></tr>\n",
    "<tr><td style=\"text-align:left\"></td><td></td><td></td><td></td><td></td></tr>\n",
    "<tr><td style=\"text-align:left\">knowledge_granularity</td><td>-0.010<sup>***</sup></td><td></td><td>-0.016<sup>***</sup></td><td></td></tr>\n",
    "<tr><td style=\"text-align:left\"></td><td>(0.002)</td><td></td><td>(0.002)</td><td></td></tr>\n",
    "<tr><td style=\"text-align:left\"></td><td></td><td></td><td></td><td></td></tr>\n",
    "<tr><td style=\"text-align:left\">title_length</td><td>-0.011<sup>***</sup></td><td></td><td>-0.011<sup>***</sup></td><td></td></tr>\n",
    "<tr><td style=\"text-align:left\"></td><td>(0.0003)</td><td></td><td>(0.0003)</td><td></td></tr>\n",
    "<tr><td style=\"text-align:left\"></td><td></td><td></td><td></td><td></td></tr>\n",
    "<tr><td style=\"text-align:left\">log_lasting_days</td><td>0.724<sup>***</sup></td><td></td><td>0.724<sup>***</sup></td><td></td></tr>\n",
    "<tr><td style=\"text-align:left\"></td><td>(0.002)</td><td></td><td>(0.002)</td><td></td></tr>\n",
    "<tr><td style=\"text-align:left\"></td><td></td><td></td><td></td><td></td></tr>\n",
    "<tr><td style=\"text-align:left\">poly(scale(log_content_distance), 2)1</td><td></td><td>126.073<sup>***</sup></td><td></td><td>124.914<sup>***</sup></td></tr>\n",
    "<tr><td style=\"text-align:left\"></td><td></td><td>(0.823)</td><td></td><td>(0.845)</td></tr>\n",
    "<tr><td style=\"text-align:left\"></td><td></td><td></td><td></td><td></td></tr>\n",
    "<tr><td style=\"text-align:left\">poly(scale(log_content_distance), 2)2</td><td></td><td>-34.549<sup>***</sup></td><td></td><td>-33.177<sup>***</sup></td></tr>\n",
    "<tr><td style=\"text-align:left\"></td><td></td><td>(0.796)</td><td></td><td>(0.807)</td></tr>\n",
    "<tr><td style=\"text-align:left\"></td><td></td><td></td><td></td><td></td></tr>\n",
    "<tr><td style=\"text-align:left\">scale(knowledge_granularity)</td><td></td><td>-0.008<sup>***</sup></td><td></td><td>-0.013<sup>***</sup></td></tr>\n",
    "<tr><td style=\"text-align:left\"></td><td></td><td>(0.001)</td><td></td><td>(0.001)</td></tr>\n",
    "<tr><td style=\"text-align:left\"></td><td></td><td></td><td></td><td></td></tr>\n",
    "<tr><td style=\"text-align:left\">scale(title_length)</td><td></td><td>-0.049<sup>***</sup></td><td></td><td>-0.049<sup>***</sup></td></tr>\n",
    "<tr><td style=\"text-align:left\"></td><td></td><td>(0.001)</td><td></td><td>(0.001)</td></tr>\n",
    "<tr><td style=\"text-align:left\"></td><td></td><td></td><td></td><td></td></tr>\n",
    "<tr><td style=\"text-align:left\">scale(log_lasting_days)</td><td></td><td>0.552<sup>***</sup></td><td></td><td>0.552<sup>***</sup></td></tr>\n",
    "<tr><td style=\"text-align:left\"></td><td></td><td>(0.001)</td><td></td><td>(0.001)</td></tr>\n",
    "<tr><td style=\"text-align:left\"></td><td></td><td></td><td></td><td></td></tr>\n",
    "<tr><td style=\"text-align:left\">Mon</td><td>0.008</td><td>0.004</td><td>0.008</td><td>0.004</td></tr>\n",
    "<tr><td style=\"text-align:left\"></td><td>(0.009)</td><td>(0.004)</td><td>(0.009)</td><td>(0.004)</td></tr>\n",
    "<tr><td style=\"text-align:left\"></td><td></td><td></td><td></td><td></td></tr>\n",
    "<tr><td style=\"text-align:left\">Tue</td><td>0.009</td><td>0.004</td><td>0.010</td><td>0.004</td></tr>\n",
    "<tr><td style=\"text-align:left\"></td><td>(0.009)</td><td>(0.004)</td><td>(0.009)</td><td>(0.004)</td></tr>\n",
    "<tr><td style=\"text-align:left\"></td><td></td><td></td><td></td><td></td></tr>\n",
    "<tr><td style=\"text-align:left\">Wed</td><td>0.020<sup>**</sup></td><td>0.009<sup>**</sup></td><td>0.021<sup>**</sup></td><td>0.009<sup>**</sup></td></tr>\n",
    "<tr><td style=\"text-align:left\"></td><td>(0.009)</td><td>(0.004)</td><td>(0.009)</td><td>(0.004)</td></tr>\n",
    "<tr><td style=\"text-align:left\"></td><td></td><td></td><td></td><td></td></tr>\n",
    "<tr><td style=\"text-align:left\">Thu</td><td>0.0004</td><td>0.0002</td><td>0.001</td><td>0.0002</td></tr>\n",
    "<tr><td style=\"text-align:left\"></td><td>(0.009)</td><td>(0.004)</td><td>(0.009)</td><td>(0.004)</td></tr>\n",
    "<tr><td style=\"text-align:left\"></td><td></td><td></td><td></td><td></td></tr>\n",
    "<tr><td style=\"text-align:left\">Fri</td><td>0.001</td><td>0.001</td><td>0.002</td><td>0.001</td></tr>\n",
    "<tr><td style=\"text-align:left\"></td><td>(0.009)</td><td>(0.004)</td><td>(0.009)</td><td>(0.004)</td></tr>\n",
    "<tr><td style=\"text-align:left\"></td><td></td><td></td><td></td><td></td></tr>\n",
    "<tr><td style=\"text-align:left\">H_0_3</td><td>0.032<sup>***</sup></td><td>0.014<sup>***</sup></td><td>0.032<sup>***</sup></td><td>0.014<sup>***</sup></td></tr>\n",
    "<tr><td style=\"text-align:left\"></td><td>(0.012)</td><td>(0.005)</td><td>(0.012)</td><td>(0.005)</td></tr>\n",
    "<tr><td style=\"text-align:left\"></td><td></td><td></td><td></td><td></td></tr>\n",
    "<tr><td style=\"text-align:left\">H_3_6</td><td>0.032</td><td>0.014</td><td>0.032</td><td>0.014</td></tr>\n",
    "<tr><td style=\"text-align:left\"></td><td>(0.021)</td><td>(0.010)</td><td>(0.021)</td><td>(0.010)</td></tr>\n",
    "<tr><td style=\"text-align:left\"></td><td></td><td></td><td></td><td></td></tr>\n",
    "<tr><td style=\"text-align:left\">H_6_9</td><td>-0.002</td><td>-0.001</td><td>-0.002</td><td>-0.001</td></tr>\n",
    "<tr><td style=\"text-align:left\"></td><td>(0.014)</td><td>(0.006)</td><td>(0.014)</td><td>(0.006)</td></tr>\n",
    "<tr><td style=\"text-align:left\"></td><td></td><td></td><td></td><td></td></tr>\n",
    "<tr><td style=\"text-align:left\">H_9_12</td><td>-0.002</td><td>-0.001</td><td>-0.002</td><td>-0.001</td></tr>\n",
    "<tr><td style=\"text-align:left\"></td><td>(0.009)</td><td>(0.004)</td><td>(0.009)</td><td>(0.004)</td></tr>\n",
    "<tr><td style=\"text-align:left\"></td><td></td><td></td><td></td><td></td></tr>\n",
    "<tr><td style=\"text-align:left\">H_12_15</td><td>0.016<sup>*</sup></td><td>0.007<sup>*</sup></td><td>0.016<sup>*</sup></td><td>0.007<sup>*</sup></td></tr>\n",
    "<tr><td style=\"text-align:left\"></td><td>(0.009)</td><td>(0.004)</td><td>(0.009)</td><td>(0.004)</td></tr>\n",
    "<tr><td style=\"text-align:left\"></td><td></td><td></td><td></td><td></td></tr>\n",
    "<tr><td style=\"text-align:left\">H_15_18</td><td>-0.015</td><td>-0.007</td><td>-0.015</td><td>-0.007</td></tr>\n",
    "<tr><td style=\"text-align:left\"></td><td>(0.009)</td><td>(0.004)</td><td>(0.009)</td><td>(0.004)</td></tr>\n",
    "<tr><td style=\"text-align:left\"></td><td></td><td></td><td></td><td></td></tr>\n",
    "<tr><td style=\"text-align:left\">H_18_21</td><td>0.003</td><td>0.002</td><td>0.003</td><td>0.002</td></tr>\n",
    "<tr><td style=\"text-align:left\"></td><td>(0.009)</td><td>(0.004)</td><td>(0.009)</td><td>(0.004)</td></tr>\n",
    "<tr><td style=\"text-align:left\"></td><td></td><td></td><td></td><td></td></tr>\n",
    "<tr><td style=\"text-align:left\">poly(log_content_distance, 2)1:knowledge_granularity</td><td></td><td></td><td>-10.410<sup>***</sup></td><td></td></tr>\n",
    "<tr><td style=\"text-align:left\"></td><td></td><td></td><td>(0.938)</td><td></td></tr>\n",
    "<tr><td style=\"text-align:left\"></td><td></td><td></td><td></td><td></td></tr>\n",
    "<tr><td style=\"text-align:left\">poly(log_content_distance, 2)2:knowledge_granularity</td><td></td><td></td><td>-5.828<sup>***</sup></td><td></td></tr>\n",
    "<tr><td style=\"text-align:left\"></td><td></td><td></td><td>(1.069)</td><td></td></tr>\n",
    "<tr><td style=\"text-align:left\"></td><td></td><td></td><td></td><td></td></tr>\n",
    "<tr><td style=\"text-align:left\">poly(scale(log_content_distance), 2)1:scale(knowledge_granularity)</td><td></td><td></td><td></td><td>-8.430<sup>***</sup></td></tr>\n",
    "<tr><td style=\"text-align:left\"></td><td></td><td></td><td></td><td>(0.759)</td></tr>\n",
    "<tr><td style=\"text-align:left\"></td><td></td><td></td><td></td><td></td></tr>\n",
    "<tr><td style=\"text-align:left\">poly(scale(log_content_distance), 2)2:scale(knowledge_granularity)</td><td></td><td></td><td></td><td>-4.720<sup>***</sup></td></tr>\n",
    "<tr><td style=\"text-align:left\"></td><td></td><td></td><td></td><td>(0.866)</td></tr>\n",
    "<tr><td style=\"text-align:left\"></td><td></td><td></td><td></td><td></td></tr>\n",
    "<tr><td style=\"text-align:left\">Constant</td><td>0.355<sup>***</sup></td><td>-0.004</td><td>0.394<sup>***</sup></td><td>-0.002</td></tr>\n",
    "<tr><td style=\"text-align:left\"></td><td>(0.016)</td><td>(0.003)</td><td>(0.016)</td><td>(0.004)</td></tr>\n",
    "<tr><td style=\"text-align:left\"></td><td></td><td></td><td></td><td></td></tr>\n",
    "<tr><td colspan=\"5\" style=\"border-bottom: 1px solid black\"></td></tr><tr><td style=\"text-align:left\">Observations</td><td>404,577</td><td>404,577</td><td>404,577</td><td>404,577</td></tr>\n",
    "<tr><td style=\"text-align:left\">R<sup>2</sup></td><td>0.390</td><td>0.390</td><td>0.390</td><td>0.390</td></tr>\n",
    "<tr><td style=\"text-align:left\">Adjusted R<sup>2</sup></td><td>0.390</td><td>0.390</td><td>0.390</td><td>0.390</td></tr>\n",
    "<tr><td style=\"text-align:left\">Residual Std. Error</td><td>1.738 (df = 404559)</td><td>0.781 (df = 404559)</td><td>1.738 (df = 404557)</td><td>0.781 (df = 404557)</td></tr>\n",
    "<tr><td style=\"text-align:left\">F Statistic</td><td>15,185.870<sup>***</sup> (df = 17; 404559)</td><td>15,185.870<sup>***</sup> (df = 17; 404559)</td><td>13,598.870<sup>***</sup> (df = 19; 404557)</td><td>13,598.870<sup>***</sup> (df = 19; 404557)</td></tr>\n",
    "<tr><td colspan=\"5\" style=\"border-bottom: 1px solid black\"></td></tr><tr><td style=\"text-align:left\"><em>Note:</em></td><td colspan=\"4\" style=\"text-align:right\"><sup>*</sup>p<0.1; <sup>**</sup>p<0.05; <sup>***</sup>p<0.01</td></tr>\n",
    "</table>"
   ]
  },
  {
   "cell_type": "code",
   "execution_count": 40,
   "metadata": {
    "ExecuteTime": {
     "end_time": "2021-09-22T02:55:44.591370Z",
     "start_time": "2021-09-22T02:55:43.048Z"
    }
   },
   "outputs": [
    {
     "data": {
      "image/png": "[encoded data removed]",
      "text/plain": [
       "plot without title"
      ]
     },
     "metadata": {
      "image/png": {
       "height": 420,
       "width": 420
      }
     },
     "output_type": "display_data"
    }
   ],
   "source": [
    "p<-interact_plot(model3, pred =log_content_distance, modx = knowledge_granularity, \n",
    "                 data = data, interval = TRUE,int.width = 0.8,\n",
    "                x.label = TeX(\"Knowledge Spanning (log)\"), y.label = TeX(\"Appeal of Questions\"),\n",
    "                 main.title = \"\",  legend.main = TeX(\"Granularity\"),)\n",
    "#p+xlim(0,1)+ylim(-1000,4000)\n",
    "\n",
    "p\n"
   ]
  },
  {
   "cell_type": "code",
   "execution_count": 41,
   "metadata": {
    "ExecuteTime": {
     "end_time": "2021-09-22T02:55:34.922555Z",
     "start_time": "2021-09-22T02:55:32.635Z"
    }
   },
   "outputs": [
    {
     "data": {
      "image/png": "[encoded data removed]",
      "text/plain": [
       "plot without title"
      ]
     },
     "metadata": {
      "image/png": {
       "height": 420,
       "width": 420
      }
     },
     "output_type": "display_data"
    }
   ],
   "source": [
    "p<-interact_plot(model3, pred =log_content_distance, modx = knowledge_granularity, \n",
    "                  modx.values = c(mean(data$knowledge_granularity)-2*sd(data$knowledge_granularity),  \n",
    "                                  mean(data$knowledge_granularity)-sd(data$knowledge_granularity),\n",
    "                                    mean(data$knowledge_granularity),\n",
    "                                    mean(data$knowledge_granularity)+sd(data$knowledge_granularity),\n",
    "                                    mean(data$knowledge_granularity)+2*sd(data$knowledge_granularity)),\n",
    "                 data = data, interval = TRUE,int.width = 0.8,\n",
    "                x.label = TeX(\"Knowledge Spanning (log)\"), y.label = TeX(\"Appeal of Questions\"),\n",
    "                 main.title = \"\",  legend.main = TeX(\"Granularity\"),)\n",
    "#p+xlim(0,1)+ylim(-1000,4000)\n",
    "\n",
    "p\n"
   ]
  },
  {
   "cell_type": "code",
   "execution_count": 39,
   "metadata": {
    "ExecuteTime": {
     "end_time": "2021-09-22T09:44:13.833515Z",
     "start_time": "2021-09-22T09:44:10.616Z"
    }
   },
   "outputs": [
    {
     "data": {
      "image/png": "[encoded data removed]",
      "text/plain": [
       "plot without title"
      ]
     },
     "metadata": {
      "image/png": {
       "height": 420,
       "width": 420
      }
     },
     "output_type": "display_data"
    }
   ],
   "source": [
    "p<-interact_plot(model3, pred =log_content_distance, modx = knowledge_granularity, \n",
    "                  modx.values = c(0, 2, 4, 6, 8, 10, 12, 14),\n",
    "                 data = data, interval = TRUE,int.width = 0.8,\n",
    "                x.label = TeX(\"Knowledge Spanning (log)\"), y.label = TeX(\"Appeal of Questions\"),\n",
    "                 main.title = \"\",  legend.main = TeX(\"Granularity\"),)\n",
    "#p+xlim(0,1)+ylim(-1000,4000)\n",
    "\n",
    "p\n"
   ]
  },
  {
   "cell_type": "code",
   "execution_count": 42,
   "metadata": {
    "ExecuteTime": {
     "end_time": "2021-09-22T09:44:13.833515Z",
     "start_time": "2021-09-22T09:44:10.616Z"
    }
   },
   "outputs": [
    {
     "data": {
      "image/png": "[encoded data removed]",
      "text/plain": [
       "plot without title"
      ]
     },
     "metadata": {
      "image/png": {
       "height": 420,
       "width": 420
      }
     },
     "output_type": "display_data"
    }
   ],
   "source": [
    "p<-interact_plot(model3, pred =log_content_distance, modx = knowledge_granularity, \n",
    "                  modx.values = c(0, 2, 4, 6, 8, 10, 12, 14),\n",
    "                 data = data, interval = TRUE,int.width = 0.8,\n",
    "                x.label = TeX(\"Knowledge Spanning (log)\"), y.label = TeX(\"Appeal of Questions\"),\n",
    "                 main.title = \"\",  legend.main = TeX(\"Granularity\"),)\n",
    "#p+xlim(0,1)+ylim(-1000,4000)\n",
    "\n",
    "p\n"
   ]
  },
  {
   "cell_type": "code",
   "execution_count": 147,
   "metadata": {
    "ExecuteTime": {
     "end_time": "2021-09-22T09:44:26.035091Z",
     "start_time": "2021-09-22T09:44:25.656Z"
    }
   },
   "outputs": [
    {
     "data": {
      "text/html": [
       "<strong>pdf:</strong> 2"
      ],
      "text/latex": [
       "\\textbf{pdf:} 2"
      ],
      "text/markdown": [
       "**pdf:** 2"
      ],
      "text/plain": [
       "pdf \n",
       "  2 "
      ]
     },
     "metadata": {},
     "output_type": "display_data"
    }
   ],
   "source": [
    "# save figures as pdf\n",
    "pdf(file=\"interaction_all_latex.pdf\", width = 5, height = 5)\n",
    "p\n",
    "dev.off()"
   ]
  },
  {
   "cell_type": "code",
   "execution_count": 43,
   "metadata": {
    "ExecuteTime": {
     "end_time": "2021-09-21T08:39:59.166297Z",
     "start_time": "2021-09-21T08:39:56.073Z"
    }
   },
   "outputs": [
    {
     "data": {
      "image/png": "[encoded data removed]",
      "text/plain": [
       "plot without title"
      ]
     },
     "metadata": {
      "image/png": {
       "height": 420,
       "width": 420
      }
     },
     "output_type": "display_data"
    }
   ],
   "source": [
    "p<-interact_plot(model3, pred =log_content_distance, modx = knowledge_granularity, \n",
    "                  modx.values = c(0, 2, 4, 6, 8, 10, 12, 14),\n",
    "                 data = data, interval = TRUE,int.width = 0.8,\n",
    "                x.label = \"Knowledge Spanning (log)\", y.label = \"Appeal of Questions\",\n",
    "                 main.title = \"\",  legend.main = \"Granularity\",)\n",
    "#p+xlim(0,1)+ylim(-1000,4000)\n",
    "\n",
    "p\n"
   ]
  },
  {
   "cell_type": "code",
   "execution_count": 51,
   "metadata": {
    "ExecuteTime": {
     "end_time": "2021-09-21T08:40:06.864932Z",
     "start_time": "2021-09-21T08:40:06.544Z"
    }
   },
   "outputs": [
    {
     "data": {
      "text/html": [
       "<strong>pdf:</strong> 2"
      ],
      "text/latex": [
       "\\textbf{pdf:} 2"
      ],
      "text/markdown": [
       "**pdf:** 2"
      ],
      "text/plain": [
       "pdf \n",
       "  2 "
      ]
     },
     "metadata": {},
     "output_type": "display_data"
    }
   ],
   "source": [
    "pdf(file=\"interaction_all2.pdf\", width = 5, height = 5)\n",
    "#p+xlim(0,1)+ylim(-1000,4000)\n",
    "p\n",
    "dev.off()"
   ]
  },
  {
   "cell_type": "code",
   "execution_count": 44,
   "metadata": {
    "ExecuteTime": {
     "end_time": "2021-09-21T07:22:25.081245Z",
     "start_time": "2021-09-21T07:22:19.417Z"
    }
   },
   "outputs": [
    {
     "name": "stderr",
     "output_type": "stream",
     "text": [
      "Loading required package: carData\n",
      "\n",
      "lattice theme set by effectsTheme()\n",
      "See ?effectsTheme for details.\n",
      "\n"
     ]
    },
    {
     "data": {
      "image/png": "[encoded data removed]",
      "text/plain": [
       "plot without title"
      ]
     },
     "metadata": {
      "image/png": {
       "height": 420,
       "width": 420
      }
     },
     "output_type": "display_data"
    }
   ],
   "source": [
    "library('effects')\n",
    "e1.lm1 <- predictorEffect(\"log_content_distance\", model3, xlevels=5)\n",
    "plot(e1.lm1)\n"
   ]
  },
  {
   "cell_type": "code",
   "execution_count": null,
   "metadata": {},
   "outputs": [],
   "source": []
  }
 ],
 "metadata": {
  "kernelspec": {
   "display_name": "R",
   "language": "R",
   "name": "ir"
  },
  "language_info": {
   "codemirror_mode": "r",
   "file_extension": ".r",
   "mimetype": "text/x-r-source",
   "name": "R",
   "pygments_lexer": "r",
   "version": "4.2.2"
  },
  "toc": {
   "base_numbering": 1,
   "nav_menu": {},
   "number_sections": false,
   "sideBar": true,
   "skip_h1_title": false,
   "title_cell": "Table of Contents",
   "title_sidebar": "Contents",
   "toc_cell": false,
   "toc_position": {},
   "toc_section_display": true,
   "toc_window_display": false
  }
 },
 "nbformat": 4,
 "nbformat_minor": 4
}
